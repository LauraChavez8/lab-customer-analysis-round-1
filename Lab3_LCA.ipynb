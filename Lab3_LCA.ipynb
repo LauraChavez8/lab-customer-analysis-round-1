{
 "cells": [
  {
   "cell_type": "markdown",
   "id": "9a9fe7ba-f4ee-4044-a97d-7b10bf598160",
   "metadata": {},
   "source": [
    "### Read the three files into python as dataframes"
   ]
  },
  {
   "cell_type": "code",
   "execution_count": 1,
   "id": "f8149675-e29e-4643-a0ff-d42b4772b04c",
   "metadata": {},
   "outputs": [],
   "source": [
    "import pandas as pd"
   ]
  },
  {
   "cell_type": "code",
   "execution_count": 2,
   "id": "54cbc78b-a164-44ef-a2b5-ee9834d540f8",
   "metadata": {},
   "outputs": [],
   "source": [
    "base1 = pd.read_csv('/Users/laura.chavez/Documents/GitHub/lab-customer-analysis-round-1/files_for_lab/csv_files/file1.csv')"
   ]
  },
  {
   "cell_type": "code",
   "execution_count": 3,
   "id": "2f81966b-a3dd-4321-a209-760eb13a50af",
   "metadata": {},
   "outputs": [],
   "source": [
    "base2 = pd.read_csv('/Users/laura.chavez/Documents/GitHub/lab-customer-analysis-round-1/files_for_lab/csv_files/file2.csv')"
   ]
  },
  {
   "cell_type": "code",
   "execution_count": 4,
   "id": "2e841fec-c556-4dd7-8eff-feea11793b24",
   "metadata": {},
   "outputs": [],
   "source": [
    "base3 = pd.read_csv('/Users/laura.chavez/Documents/GitHub/lab-customer-analysis-round-1/files_for_lab/csv_files/file3.csv')"
   ]
  },
  {
   "cell_type": "code",
   "execution_count": 5,
   "id": "bde1bddd-7734-4fec-a0da-815cf9401f3a",
   "metadata": {},
   "outputs": [],
   "source": [
    "df1 =pd.DataFrame(base1)"
   ]
  },
  {
   "cell_type": "code",
   "execution_count": 6,
   "id": "4e0b7912-f580-4c76-9f01-d9b12e7d79c8",
   "metadata": {},
   "outputs": [],
   "source": [
    "df2 =pd.DataFrame(base2)"
   ]
  },
  {
   "cell_type": "code",
   "execution_count": 7,
   "id": "ee948ecf-377f-4280-bab6-69812b76dd9e",
   "metadata": {},
   "outputs": [],
   "source": [
    "df3 =pd.DataFrame(base3)"
   ]
  },
  {
   "cell_type": "markdown",
   "id": "32e11ba6-cf08-4f31-a126-4bc0e0dfa084",
   "metadata": {},
   "source": [
    "### Show the DataFrame's shape"
   ]
  },
  {
   "cell_type": "code",
   "execution_count": 8,
   "id": "eb7f64b7-f10d-42da-adc1-490138ec23d8",
   "metadata": {},
   "outputs": [
    {
     "data": {
      "text/plain": [
       "(4008, 11)"
      ]
     },
     "execution_count": 8,
     "metadata": {},
     "output_type": "execute_result"
    }
   ],
   "source": [
    "df1.shape"
   ]
  },
  {
   "cell_type": "code",
   "execution_count": 10,
   "id": "0da41ce1-bc56-49a4-8825-7c24f81eb571",
   "metadata": {},
   "outputs": [
    {
     "data": {
      "text/plain": [
       "(996, 11)"
      ]
     },
     "execution_count": 10,
     "metadata": {},
     "output_type": "execute_result"
    }
   ],
   "source": [
    "df2.shape"
   ]
  },
  {
   "cell_type": "code",
   "execution_count": 12,
   "id": "da98965e-6359-4b9a-985a-dc5a7f3dda15",
   "metadata": {},
   "outputs": [
    {
     "data": {
      "text/plain": [
       "(7070, 11)"
      ]
     },
     "execution_count": 12,
     "metadata": {},
     "output_type": "execute_result"
    }
   ],
   "source": [
    "df3.shape"
   ]
  },
  {
   "cell_type": "markdown",
   "id": "eeb9ccea-de4c-4b3d-b53d-18b9d8b101db",
   "metadata": {},
   "source": [
    "### Standardize header names"
   ]
  },
  {
   "cell_type": "code",
   "execution_count": 14,
   "id": "f2e58e08-0f25-4cb7-863d-612b4e573896",
   "metadata": {},
   "outputs": [],
   "source": [
    "df1.columns = df1.columns.str.lower().str.replace(' ','_')\n",
    "df2.columns = df2.columns.str.lower().str.replace(' ','_')\n",
    "df3.columns = df3.columns.str.lower().str.replace(' ','_')"
   ]
  },
  {
   "cell_type": "code",
   "execution_count": 15,
   "id": "9adb1532-b374-426b-b369-945bbd7bce5f",
   "metadata": {},
   "outputs": [
    {
     "data": {
      "text/html": [
       "<div>\n",
       "<style scoped>\n",
       "    .dataframe tbody tr th:only-of-type {\n",
       "        vertical-align: middle;\n",
       "    }\n",
       "\n",
       "    .dataframe tbody tr th {\n",
       "        vertical-align: top;\n",
       "    }\n",
       "\n",
       "    .dataframe thead th {\n",
       "        text-align: right;\n",
       "    }\n",
       "</style>\n",
       "<table border=\"1\" class=\"dataframe\">\n",
       "  <thead>\n",
       "    <tr style=\"text-align: right;\">\n",
       "      <th></th>\n",
       "      <th>0</th>\n",
       "    </tr>\n",
       "  </thead>\n",
       "  <tbody>\n",
       "    <tr>\n",
       "      <th>0</th>\n",
       "      <td>customer</td>\n",
       "    </tr>\n",
       "    <tr>\n",
       "      <th>1</th>\n",
       "      <td>customer_lifetime_value</td>\n",
       "    </tr>\n",
       "    <tr>\n",
       "      <th>2</th>\n",
       "      <td>education</td>\n",
       "    </tr>\n",
       "    <tr>\n",
       "      <th>3</th>\n",
       "      <td>gender</td>\n",
       "    </tr>\n",
       "    <tr>\n",
       "      <th>4</th>\n",
       "      <td>income</td>\n",
       "    </tr>\n",
       "    <tr>\n",
       "      <th>5</th>\n",
       "      <td>monthly_premium_auto</td>\n",
       "    </tr>\n",
       "    <tr>\n",
       "      <th>6</th>\n",
       "      <td>number_of_open_complaints</td>\n",
       "    </tr>\n",
       "    <tr>\n",
       "      <th>7</th>\n",
       "      <td>policy_type</td>\n",
       "    </tr>\n",
       "    <tr>\n",
       "      <th>8</th>\n",
       "      <td>st</td>\n",
       "    </tr>\n",
       "    <tr>\n",
       "      <th>9</th>\n",
       "      <td>total_claim_amount</td>\n",
       "    </tr>\n",
       "    <tr>\n",
       "      <th>10</th>\n",
       "      <td>vehicle_class</td>\n",
       "    </tr>\n",
       "  </tbody>\n",
       "</table>\n",
       "</div>"
      ],
      "text/plain": [
       "                            0\n",
       "0                    customer\n",
       "1     customer_lifetime_value\n",
       "2                   education\n",
       "3                      gender\n",
       "4                      income\n",
       "5        monthly_premium_auto\n",
       "6   number_of_open_complaints\n",
       "7                 policy_type\n",
       "8                          st\n",
       "9          total_claim_amount\n",
       "10              vehicle_class"
      ]
     },
     "execution_count": 15,
     "metadata": {},
     "output_type": "execute_result"
    }
   ],
   "source": [
    "pd.DataFrame(df1.columns.sort_values())"
   ]
  },
  {
   "cell_type": "code",
   "execution_count": 16,
   "id": "e910b156-c436-49d7-bb3f-f04cd7a116a6",
   "metadata": {},
   "outputs": [
    {
     "data": {
      "text/html": [
       "<div>\n",
       "<style scoped>\n",
       "    .dataframe tbody tr th:only-of-type {\n",
       "        vertical-align: middle;\n",
       "    }\n",
       "\n",
       "    .dataframe tbody tr th {\n",
       "        vertical-align: top;\n",
       "    }\n",
       "\n",
       "    .dataframe thead th {\n",
       "        text-align: right;\n",
       "    }\n",
       "</style>\n",
       "<table border=\"1\" class=\"dataframe\">\n",
       "  <thead>\n",
       "    <tr style=\"text-align: right;\">\n",
       "      <th></th>\n",
       "      <th>0</th>\n",
       "    </tr>\n",
       "  </thead>\n",
       "  <tbody>\n",
       "    <tr>\n",
       "      <th>0</th>\n",
       "      <td>customer</td>\n",
       "    </tr>\n",
       "    <tr>\n",
       "      <th>1</th>\n",
       "      <td>customer_lifetime_value</td>\n",
       "    </tr>\n",
       "    <tr>\n",
       "      <th>2</th>\n",
       "      <td>education</td>\n",
       "    </tr>\n",
       "    <tr>\n",
       "      <th>3</th>\n",
       "      <td>gender</td>\n",
       "    </tr>\n",
       "    <tr>\n",
       "      <th>4</th>\n",
       "      <td>income</td>\n",
       "    </tr>\n",
       "    <tr>\n",
       "      <th>5</th>\n",
       "      <td>monthly_premium_auto</td>\n",
       "    </tr>\n",
       "    <tr>\n",
       "      <th>6</th>\n",
       "      <td>number_of_open_complaints</td>\n",
       "    </tr>\n",
       "    <tr>\n",
       "      <th>7</th>\n",
       "      <td>policy_type</td>\n",
       "    </tr>\n",
       "    <tr>\n",
       "      <th>8</th>\n",
       "      <td>st</td>\n",
       "    </tr>\n",
       "    <tr>\n",
       "      <th>9</th>\n",
       "      <td>total_claim_amount</td>\n",
       "    </tr>\n",
       "    <tr>\n",
       "      <th>10</th>\n",
       "      <td>vehicle_class</td>\n",
       "    </tr>\n",
       "  </tbody>\n",
       "</table>\n",
       "</div>"
      ],
      "text/plain": [
       "                            0\n",
       "0                    customer\n",
       "1     customer_lifetime_value\n",
       "2                   education\n",
       "3                      gender\n",
       "4                      income\n",
       "5        monthly_premium_auto\n",
       "6   number_of_open_complaints\n",
       "7                 policy_type\n",
       "8                          st\n",
       "9          total_claim_amount\n",
       "10              vehicle_class"
      ]
     },
     "execution_count": 16,
     "metadata": {},
     "output_type": "execute_result"
    }
   ],
   "source": [
    "pd.DataFrame(df2.columns.sort_values())"
   ]
  },
  {
   "cell_type": "code",
   "execution_count": 17,
   "id": "4a26b8fc-d360-4326-b11a-408772916d02",
   "metadata": {},
   "outputs": [
    {
     "data": {
      "text/html": [
       "<div>\n",
       "<style scoped>\n",
       "    .dataframe tbody tr th:only-of-type {\n",
       "        vertical-align: middle;\n",
       "    }\n",
       "\n",
       "    .dataframe tbody tr th {\n",
       "        vertical-align: top;\n",
       "    }\n",
       "\n",
       "    .dataframe thead th {\n",
       "        text-align: right;\n",
       "    }\n",
       "</style>\n",
       "<table border=\"1\" class=\"dataframe\">\n",
       "  <thead>\n",
       "    <tr style=\"text-align: right;\">\n",
       "      <th></th>\n",
       "      <th>0</th>\n",
       "    </tr>\n",
       "  </thead>\n",
       "  <tbody>\n",
       "    <tr>\n",
       "      <th>0</th>\n",
       "      <td>customer</td>\n",
       "    </tr>\n",
       "    <tr>\n",
       "      <th>1</th>\n",
       "      <td>customer_lifetime_value</td>\n",
       "    </tr>\n",
       "    <tr>\n",
       "      <th>2</th>\n",
       "      <td>education</td>\n",
       "    </tr>\n",
       "    <tr>\n",
       "      <th>3</th>\n",
       "      <td>gender</td>\n",
       "    </tr>\n",
       "    <tr>\n",
       "      <th>4</th>\n",
       "      <td>income</td>\n",
       "    </tr>\n",
       "    <tr>\n",
       "      <th>5</th>\n",
       "      <td>monthly_premium_auto</td>\n",
       "    </tr>\n",
       "    <tr>\n",
       "      <th>6</th>\n",
       "      <td>number_of_open_complaints</td>\n",
       "    </tr>\n",
       "    <tr>\n",
       "      <th>7</th>\n",
       "      <td>policy_type</td>\n",
       "    </tr>\n",
       "    <tr>\n",
       "      <th>8</th>\n",
       "      <td>state</td>\n",
       "    </tr>\n",
       "    <tr>\n",
       "      <th>9</th>\n",
       "      <td>total_claim_amount</td>\n",
       "    </tr>\n",
       "    <tr>\n",
       "      <th>10</th>\n",
       "      <td>vehicle_class</td>\n",
       "    </tr>\n",
       "  </tbody>\n",
       "</table>\n",
       "</div>"
      ],
      "text/plain": [
       "                            0\n",
       "0                    customer\n",
       "1     customer_lifetime_value\n",
       "2                   education\n",
       "3                      gender\n",
       "4                      income\n",
       "5        monthly_premium_auto\n",
       "6   number_of_open_complaints\n",
       "7                 policy_type\n",
       "8                       state\n",
       "9          total_claim_amount\n",
       "10              vehicle_class"
      ]
     },
     "execution_count": 17,
     "metadata": {},
     "output_type": "execute_result"
    }
   ],
   "source": [
    "pd.DataFrame(df3.columns.sort_values())"
   ]
  },
  {
   "cell_type": "code",
   "execution_count": 18,
   "id": "f619896f-4400-4547-8db9-1c484810a788",
   "metadata": {},
   "outputs": [],
   "source": [
    "df3.rename(columns={'state' : 'st'}, inplace = True)"
   ]
  },
  {
   "cell_type": "markdown",
   "id": "41cb9359-3b90-49b6-bcac-44b2b26f6076",
   "metadata": {},
   "source": [
    "### Rearrange the columns in the dataframe as needed"
   ]
  },
  {
   "cell_type": "code",
   "execution_count": 19,
   "id": "a49134ff-273a-41b8-8758-b11ba3a64e98",
   "metadata": {},
   "outputs": [],
   "source": [
    "ordenColumnas = df1.columns"
   ]
  },
  {
   "cell_type": "code",
   "execution_count": 20,
   "id": "e9356702-a76c-4dd7-b7f3-75e736fa22f1",
   "metadata": {},
   "outputs": [],
   "source": [
    "df2new = df2[ordenColumnas]"
   ]
  },
  {
   "cell_type": "code",
   "execution_count": 21,
   "id": "a5dfc94c-9707-4f62-be0c-90d3926c795f",
   "metadata": {},
   "outputs": [],
   "source": [
    "df3new = df3[ordenColumnas]"
   ]
  },
  {
   "cell_type": "markdown",
   "id": "b51e6f3e-fe40-40f4-9ec5-0de5049d3e43",
   "metadata": {},
   "source": [
    "### Concatenate the three dataframes"
   ]
  },
  {
   "cell_type": "code",
   "execution_count": 22,
   "id": "5816c0a4-1e57-46ec-8c24-5aa7809eede6",
   "metadata": {},
   "outputs": [],
   "source": [
    "dfFinal = pd.concat([df1, df2new, df3new])"
   ]
  },
  {
   "cell_type": "markdown",
   "id": "c30becf1-16b4-4397-9400-34d6ad7a45c5",
   "metadata": {},
   "source": [
    "### Which columns are numerical?"
   ]
  },
  {
   "cell_type": "code",
   "execution_count": 23,
   "id": "60dcd28b-2877-4334-a0ee-592de21a1c14",
   "metadata": {},
   "outputs": [
    {
     "data": {
      "text/plain": [
       "customer                      object\n",
       "st                            object\n",
       "gender                        object\n",
       "education                     object\n",
       "customer_lifetime_value       object\n",
       "income                       float64\n",
       "monthly_premium_auto         float64\n",
       "number_of_open_complaints     object\n",
       "policy_type                   object\n",
       "vehicle_class                 object\n",
       "total_claim_amount           float64\n",
       "dtype: object"
      ]
     },
     "execution_count": 23,
     "metadata": {},
     "output_type": "execute_result"
    }
   ],
   "source": [
    "dfFinal.dtypes"
   ]
  },
  {
   "cell_type": "markdown",
   "id": "d04d9027-3ede-46f4-861b-184e3e2cb2db",
   "metadata": {},
   "source": [
    "Las columnas CUSTOMER LIFETIME VALUE, INCOME, MONTHLY PREMIUM AUTO, NUMBER OF OPEN COMPLAINTS y TOTAL CLAIM AMOUNT"
   ]
  },
  {
   "cell_type": "markdown",
   "id": "0b4dd01f-e26e-48fc-a55a-393b69e9c3b4",
   "metadata": {},
   "source": [
    "### Which columns are categorical?"
   ]
  },
  {
   "cell_type": "markdown",
   "id": "096520e5-397a-4a9e-ba9d-47cfd74313a3",
   "metadata": {},
   "source": [
    "Las columnas ST, GENDER, EDUCATION, POLICY TYPE y VEHICLE CLASS."
   ]
  },
  {
   "cell_type": "markdown",
   "id": "b8a3d06a-5dd1-48d4-abb6-9c81817899a3",
   "metadata": {},
   "source": [
    "### Understand the meaning of all columns"
   ]
  },
  {
   "cell_type": "markdown",
   "id": "19b3b754-1830-4c76-8eef-fd674d3b8e4a",
   "metadata": {},
   "source": [
    "CUSTOMER -> Número de cliente\n",
    "ST -> Estado\n",
    "GENDER-> Género\n",
    "EDUCATION-> Nivel de educación del cliente\n",
    "CUSTOMER LIFETIME VALUE-> Nivel de valía de un cliente para la empresa\n",
    "POLICY TYPE-> Tipo de uso del auto\n",
    "VEHICLE CLASS-> Gama del auto\n",
    "INCOME-> Nivel de ingresos del cliente\n",
    "MONTHLY PREMIUM AUTO-> Prima mensual del auto\n",
    "NUMBER OF OPEN COMPLAINTS-> Reclamaciones abiertas\n",
    "TOTAL CLAIM AMOUNT-> Importe de las reclamaciones totales"
   ]
  },
  {
   "cell_type": "markdown",
   "id": "7d4168e0-8ba0-4c96-a48b-6a8b85ea79c0",
   "metadata": {},
   "source": [
    "### Perform the data cleaning operations mentioned so far in class"
   ]
  },
  {
   "cell_type": "code",
   "execution_count": 27,
   "id": "676e5fc0-be91-4e3b-927f-ea568b527b34",
   "metadata": {},
   "outputs": [],
   "source": [
    "dfCorrect = dfFinal.drop(columns = ['education','number_of_open_complaints'])"
   ]
  },
  {
   "cell_type": "code",
   "execution_count": 28,
   "id": "f8511c7a-dc2c-437f-bed2-2f13972591de",
   "metadata": {},
   "outputs": [
    {
     "name": "stdout",
     "output_type": "stream",
     "text": [
      "<class 'pandas.core.frame.DataFrame'>\n",
      "Index: 12074 entries, 0 to 7069\n",
      "Data columns (total 9 columns):\n",
      " #   Column                   Non-Null Count  Dtype  \n",
      "---  ------                   --------------  -----  \n",
      " 0   customer                 9137 non-null   object \n",
      " 1   st                       9137 non-null   object \n",
      " 2   gender                   9015 non-null   object \n",
      " 3   customer_lifetime_value  9130 non-null   object \n",
      " 4   income                   9137 non-null   float64\n",
      " 5   monthly_premium_auto     9137 non-null   float64\n",
      " 6   policy_type              9137 non-null   object \n",
      " 7   vehicle_class            9137 non-null   object \n",
      " 8   total_claim_amount       9137 non-null   float64\n",
      "dtypes: float64(3), object(6)\n",
      "memory usage: 943.3+ KB\n"
     ]
    }
   ],
   "source": [
    "dfCorrect.info()"
   ]
  },
  {
   "cell_type": "code",
   "execution_count": 32,
   "id": "c72a081d-bc17-4126-b2c9-536528972ab2",
   "metadata": {},
   "outputs": [],
   "source": [
    "dfCorrect.customer_lifetime_value.fillna(0, inplace = True)"
   ]
  },
  {
   "cell_type": "code",
   "execution_count": 37,
   "id": "29460ee2-d062-4831-af7b-4a6eff4c3a81",
   "metadata": {},
   "outputs": [],
   "source": [
    "dfCorrect.customer_lifetime_value = dfCorrect.customer_lifetime_value.astype('string')"
   ]
  },
  {
   "cell_type": "code",
   "execution_count": 38,
   "id": "cf1447ff-e2e2-4a34-b27e-214b17862c0b",
   "metadata": {},
   "outputs": [
    {
     "name": "stdout",
     "output_type": "stream",
     "text": [
      "<class 'pandas.core.frame.DataFrame'>\n",
      "Index: 12074 entries, 0 to 7069\n",
      "Data columns (total 9 columns):\n",
      " #   Column                   Non-Null Count  Dtype  \n",
      "---  ------                   --------------  -----  \n",
      " 0   customer                 9137 non-null   object \n",
      " 1   st                       9137 non-null   object \n",
      " 2   gender                   9015 non-null   object \n",
      " 3   customer_lifetime_value  12074 non-null  string \n",
      " 4   income                   9137 non-null   float64\n",
      " 5   monthly_premium_auto     9137 non-null   float64\n",
      " 6   policy_type              9137 non-null   object \n",
      " 7   vehicle_class            9137 non-null   object \n",
      " 8   total_claim_amount       9137 non-null   float64\n",
      "dtypes: float64(3), object(5), string(1)\n",
      "memory usage: 943.3+ KB\n"
     ]
    }
   ],
   "source": [
    "dfCorrect.info()"
   ]
  },
  {
   "cell_type": "code",
   "execution_count": 40,
   "id": "03159ead-9ff4-45c1-9913-9c4d510406d9",
   "metadata": {},
   "outputs": [],
   "source": [
    "dfCorrect.customer_lifetime_value = dfCorrect.customer_lifetime_value.str.replace('%','')"
   ]
  },
  {
   "cell_type": "code",
   "execution_count": 50,
   "id": "b60578a9-935c-4ae9-b52a-0cc41e713c9b",
   "metadata": {},
   "outputs": [],
   "source": [
    "dfCorrect.customer_lifetime_value = dfCorrect.customer_lifetime_value.astype('int')"
   ]
  },
  {
   "cell_type": "code",
   "execution_count": 53,
   "id": "1d638184-e0a0-4ff1-beb2-043b6db9a56b",
   "metadata": {},
   "outputs": [],
   "source": [
    "dfCorrect.customer_lifetime_value = dfCorrect.customer_lifetime_value.apply(lambda x: x * 100)"
   ]
  },
  {
   "cell_type": "code",
   "execution_count": 54,
   "id": "69a6695e-ffd6-490d-9489-4e17ce31ca58",
   "metadata": {},
   "outputs": [],
   "source": [
    "dfCorrect = dfCorrect.drop_duplicates()"
   ]
  },
  {
   "cell_type": "code",
   "execution_count": 61,
   "id": "c2cbed15-7498-443f-98ca-b50de6120143",
   "metadata": {},
   "outputs": [],
   "source": [
    "incomeClients = dfCorrect.income <= 0"
   ]
  },
  {
   "cell_type": "code",
   "execution_count": 62,
   "id": "b6d91d9b-8279-4842-98d1-9db02e9787e5",
   "metadata": {},
   "outputs": [
    {
     "data": {
      "text/plain": [
       "2294"
      ]
     },
     "execution_count": 62,
     "metadata": {},
     "output_type": "execute_result"
    }
   ],
   "source": [
    "incomeClients.sum()"
   ]
  },
  {
   "cell_type": "code",
   "execution_count": null,
   "id": "3eb7e796-8d3a-4131-ae01-2c74f658e9d8",
   "metadata": {},
   "outputs": [],
   "source": []
  }
 ],
 "metadata": {
  "kernelspec": {
   "display_name": "Python 3 (ipykernel)",
   "language": "python",
   "name": "python3"
  },
  "language_info": {
   "codemirror_mode": {
    "name": "ipython",
    "version": 3
   },
   "file_extension": ".py",
   "mimetype": "text/x-python",
   "name": "python",
   "nbconvert_exporter": "python",
   "pygments_lexer": "ipython3",
   "version": "3.9.13"
  }
 },
 "nbformat": 4,
 "nbformat_minor": 5
}
